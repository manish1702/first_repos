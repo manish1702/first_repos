{
 "cells": [
  {
   "cell_type": "markdown",
   "id": "0659bdbf",
   "metadata": {},
   "source": [
    "# basic of python\n",
    "    .various data types in python\n",
    "    .variable\n",
    "    .variable assigment\n",
    "    . print formating"
   ]
  },
  {
   "cell_type": "markdown",
   "id": "d1a54cfe",
   "metadata": {},
   "source": [
    "# numbers"
   ]
  },
  {
   "cell_type": "code",
   "execution_count": null,
   "id": "72003ce2",
   "metadata": {},
   "outputs": [],
   "source": []
  },
  {
   "cell_type": "code",
   "execution_count": 1,
   "id": "4828d87e",
   "metadata": {},
   "outputs": [
    {
     "data": {
      "text/plain": [
       "2"
      ]
     },
     "execution_count": 1,
     "metadata": {},
     "output_type": "execute_result"
    }
   ],
   "source": [
    "1+1"
   ]
  },
  {
   "cell_type": "code",
   "execution_count": 2,
   "id": "0f94cee9",
   "metadata": {},
   "outputs": [
    {
     "data": {
      "text/plain": [
       "20"
      ]
     },
     "execution_count": 2,
     "metadata": {},
     "output_type": "execute_result"
    }
   ],
   "source": [
    "4*5"
   ]
  },
  {
   "cell_type": "code",
   "execution_count": 3,
   "id": "b4a64e90",
   "metadata": {},
   "outputs": [
    {
     "data": {
      "text/plain": [
       "100"
      ]
     },
     "execution_count": 3,
     "metadata": {},
     "output_type": "execute_result"
    }
   ],
   "source": [
    "10**2"
   ]
  },
  {
   "cell_type": "code",
   "execution_count": 5,
   "id": "8e1469de",
   "metadata": {},
   "outputs": [
    {
     "data": {
      "text/plain": [
       "'strstrstrstrstrstrstrstrstrstr'"
      ]
     },
     "execution_count": 5,
     "metadata": {},
     "output_type": "execute_result"
    }
   ],
   "source": [
    "10*'str'"
   ]
  },
  {
   "cell_type": "code",
   "execution_count": 6,
   "id": "55212b3f",
   "metadata": {},
   "outputs": [
    {
     "data": {
      "text/plain": [
       "int"
      ]
     },
     "execution_count": 6,
     "metadata": {},
     "output_type": "execute_result"
    }
   ],
   "source": [
    "type(1)"
   ]
  },
  {
   "cell_type": "code",
   "execution_count": 7,
   "id": "464fc746",
   "metadata": {},
   "outputs": [
    {
     "data": {
      "text/plain": [
       "str"
      ]
     },
     "execution_count": 7,
     "metadata": {},
     "output_type": "execute_result"
    }
   ],
   "source": [
    "type('str')"
   ]
  },
  {
   "cell_type": "code",
   "execution_count": 9,
   "id": "8f5fe520",
   "metadata": {},
   "outputs": [
    {
     "data": {
      "text/plain": [
       "bool"
      ]
     },
     "execution_count": 9,
     "metadata": {},
     "output_type": "execute_result"
    }
   ],
   "source": [
    "type(True)"
   ]
  },
  {
   "cell_type": "markdown",
   "id": "cfa29495",
   "metadata": {},
   "source": [
    "# string"
   ]
  },
  {
   "cell_type": "code",
   "execution_count": 11,
   "id": "7e562063",
   "metadata": {},
   "outputs": [
    {
     "data": {
      "text/plain": [
       "'manish'"
      ]
     },
     "execution_count": 11,
     "metadata": {},
     "output_type": "execute_result"
    }
   ],
   "source": [
    " \"manish\""
   ]
  },
  {
   "cell_type": "code",
   "execution_count": 12,
   "id": "e59fd559",
   "metadata": {},
   "outputs": [
    {
     "data": {
      "text/plain": [
       "str"
      ]
     },
     "execution_count": 12,
     "metadata": {},
     "output_type": "execute_result"
    }
   ],
   "source": [
    "type(\"manish\")"
   ]
  },
  {
   "cell_type": "code",
   "execution_count": 13,
   "id": "99044bf6",
   "metadata": {},
   "outputs": [],
   "source": [
    "a= \"leave it\""
   ]
  },
  {
   "cell_type": "code",
   "execution_count": 14,
   "id": "f85878e9",
   "metadata": {},
   "outputs": [
    {
     "data": {
      "text/plain": [
       "str"
      ]
     },
     "execution_count": 14,
     "metadata": {},
     "output_type": "execute_result"
    }
   ],
   "source": [
    "type(a)"
   ]
  },
  {
   "cell_type": "markdown",
   "id": "b7751bc3",
   "metadata": {},
   "source": [
    "# variable assigment"
   ]
  },
  {
   "cell_type": "code",
   "execution_count": 16,
   "id": "279e696f",
   "metadata": {},
   "outputs": [],
   "source": [
    "#syntax\n",
    "# var_name= values\n",
    "A = 95"
   ]
  },
  {
   "cell_type": "code",
   "execution_count": 17,
   "id": "b954b632",
   "metadata": {},
   "outputs": [
    {
     "data": {
      "text/plain": [
       "int"
      ]
     },
     "execution_count": 17,
     "metadata": {},
     "output_type": "execute_result"
    }
   ],
   "source": [
    "type (A)"
   ]
  },
  {
   "cell_type": "code",
   "execution_count": 18,
   "id": "95b6ab5f",
   "metadata": {},
   "outputs": [],
   "source": [
    "b = \"manish mishra\""
   ]
  },
  {
   "cell_type": "code",
   "execution_count": 19,
   "id": "1f528167",
   "metadata": {},
   "outputs": [
    {
     "data": {
      "text/plain": [
       "str"
      ]
     },
     "execution_count": 19,
     "metadata": {},
     "output_type": "execute_result"
    }
   ],
   "source": [
    "type(b)"
   ]
  },
  {
   "cell_type": "code",
   "execution_count": 20,
   "id": "4521886c",
   "metadata": {},
   "outputs": [],
   "source": [
    "## mathematical  operation with variable assigment\n",
    "a=10\n",
    "b=20"
   ]
  },
  {
   "cell_type": "code",
   "execution_count": 21,
   "id": "4fb01485",
   "metadata": {},
   "outputs": [
    {
     "name": "stdout",
     "output_type": "stream",
     "text": [
      "0.5\n",
      "200\n",
      "100000000000000000000\n",
      "30\n"
     ]
    }
   ],
   "source": [
    "print(a/b)\n",
    "print(a*b)\n",
    "print(a**b)\n",
    "print(a+b)\n"
   ]
  },
  {
   "cell_type": "code",
   "execution_count": 22,
   "id": "aee38691",
   "metadata": {},
   "outputs": [
    {
     "ename": "TypeError",
     "evalue": "'a' is an invalid keyword argument for print()",
     "output_type": "error",
     "traceback": [
      "\u001b[1;31m---------------------------------------------------------------------------\u001b[0m",
      "\u001b[1;31mTypeError\u001b[0m                                 Traceback (most recent call last)",
      "\u001b[1;32m<ipython-input-22-7c4741a7c16f>\u001b[0m in \u001b[0;36m<module>\u001b[1;34m\u001b[0m\n\u001b[1;32m----> 1\u001b[1;33m \u001b[0mprint\u001b[0m\u001b[1;33m(\u001b[0m\u001b[0ma\u001b[0m\u001b[1;33m=\u001b[0m\u001b[0mb\u001b[0m\u001b[1;33m)\u001b[0m\u001b[1;33m\u001b[0m\u001b[1;33m\u001b[0m\u001b[0m\n\u001b[0m",
      "\u001b[1;31mTypeError\u001b[0m: 'a' is an invalid keyword argument for print()"
     ]
    }
   ],
   "source": [
    "print(a=b)"
   ]
  },
  {
   "cell_type": "code",
   "execution_count": 24,
   "id": "3c7acabf",
   "metadata": {},
   "outputs": [
    {
     "name": "stdout",
     "output_type": "stream",
     "text": [
      "hello\n"
     ]
    }
   ],
   "source": [
    "# various ways of printing\n",
    "print(\"hello\")"
   ]
  },
  {
   "cell_type": "code",
   "execution_count": 25,
   "id": "d41ae03d",
   "metadata": {},
   "outputs": [],
   "source": [
    "first_name = 'manish'\n",
    "last_name = 'mishra'"
   ]
  },
  {
   "cell_type": "code",
   "execution_count": 32,
   "id": "5a23cc9a",
   "metadata": {},
   "outputs": [
    {
     "name": "stdout",
     "output_type": "stream",
     "text": [
      "my first namer is manish and last name is mishra \n"
     ]
    }
   ],
   "source": [
    "print('my first namer is {} and last name is {} '.format(first_name , last_name))"
   ]
  },
  {
   "cell_type": "code",
   "execution_count": 33,
   "id": "4c388dab",
   "metadata": {},
   "outputs": [
    {
     "name": "stdout",
     "output_type": "stream",
     "text": [
      "my first name is manish and last name is mishra\n"
     ]
    }
   ],
   "source": [
    "print('my first name is {first} and last name is {last}'.format(last=last_name,first=first_name))"
   ]
  },
  {
   "cell_type": "code",
   "execution_count": 50,
   "id": "58c0dee8",
   "metadata": {},
   "outputs": [],
   "source": [
    "first_web = 'https://agnipathvayu.cdac.in'\n",
    "second_web= 'https://www.cowin.gov.in/'"
   ]
  },
  {
   "cell_type": "code",
   "execution_count": 51,
   "id": "78d353fb",
   "metadata": {},
   "outputs": [
    {
     "name": "stdout",
     "output_type": "stream",
     "text": [
      "my search history is https://agnipathvayu.cdac.in and https://www.cowin.gov.in/\n"
     ]
    }
   ],
   "source": [
    "print('my search history is {} and {}'. format(first_web,second_web))"
   ]
  },
  {
   "cell_type": "code",
   "execution_count": null,
   "id": "22c9de45",
   "metadata": {},
   "outputs": [],
   "source": []
  }
 ],
 "metadata": {
  "kernelspec": {
   "display_name": "Python 3",
   "language": "python",
   "name": "python3"
  },
  "language_info": {
   "codemirror_mode": {
    "name": "ipython",
    "version": 3
   },
   "file_extension": ".py",
   "mimetype": "text/x-python",
   "name": "python",
   "nbconvert_exporter": "python",
   "pygments_lexer": "ipython3",
   "version": "3.8.8"
  }
 },
 "nbformat": 4,
 "nbformat_minor": 5
}
