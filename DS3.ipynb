{
 "cells": [
  {
   "cell_type": "markdown",
   "id": "ed4723fe",
   "metadata": {},
   "source": [
    "# SETS\n",
    "           A set is an unordered data type that is literable ,mutable, and has no duplicate elements.python's set class represents the mathematical notion of a set. this is based on a data structure known as a hash table"
   ]
  },
  {
   "cell_type": "code",
   "execution_count": 1,
   "id": "9d1dda78",
   "metadata": {},
   "outputs": [],
   "source": [
    "## defining an empty set"
   ]
  },
  {
   "cell_type": "code",
   "execution_count": 2,
   "id": "aed23e94",
   "metadata": {},
   "outputs": [
    {
     "name": "stdout",
     "output_type": "stream",
     "text": [
      "set()\n",
      "<class 'set'>\n"
     ]
    }
   ],
   "source": [
    "set_var=set()\n",
    "print(set_var)\n",
    "print(type(set_var))\n"
   ]
  },
  {
   "cell_type": "code",
   "execution_count": 16,
   "id": "eeedd3fd",
   "metadata": {},
   "outputs": [],
   "source": [
    "set_var={'manish','rohit','romil','aniket'}"
   ]
  },
  {
   "cell_type": "code",
   "execution_count": 17,
   "id": "9613db05",
   "metadata": {},
   "outputs": [
    {
     "name": "stdout",
     "output_type": "stream",
     "text": [
      "{'aniket', 'romil', 'manish', 'rohit'}\n"
     ]
    },
    {
     "data": {
      "text/plain": [
       "set"
      ]
     },
     "execution_count": 17,
     "metadata": {},
     "output_type": "execute_result"
    }
   ],
   "source": [
    "print(set_var)\n",
    "type(set_var)"
   ]
  },
  {
   "cell_type": "code",
   "execution_count": 20,
   "id": "e4a12af8",
   "metadata": {},
   "outputs": [],
   "source": [
    "#inbuilt function in sets\n",
    "\n",
    "set_var.add('prabhat')"
   ]
  },
  {
   "cell_type": "code",
   "execution_count": 21,
   "id": "ba2631f6",
   "metadata": {},
   "outputs": [
    {
     "data": {
      "text/plain": [
       "{'aniket', 'manish', 'prabhat', 'rohit', 'romil'}"
      ]
     },
     "execution_count": 21,
     "metadata": {},
     "output_type": "execute_result"
    }
   ],
   "source": [
    "set_var"
   ]
  },
  {
   "cell_type": "code",
   "execution_count": 22,
   "id": "4eb7e641",
   "metadata": {},
   "outputs": [],
   "source": [
    "set_var.add('chandan')"
   ]
  },
  {
   "cell_type": "code",
   "execution_count": 23,
   "id": "a720eb2e",
   "metadata": {},
   "outputs": [
    {
     "data": {
      "text/plain": [
       "{'aniket', 'chandan', 'manish', 'prabhat', 'rohit', 'romil'}"
      ]
     },
     "execution_count": 23,
     "metadata": {},
     "output_type": "execute_result"
    }
   ],
   "source": [
    "set_var"
   ]
  },
  {
   "cell_type": "code",
   "execution_count": 24,
   "id": "dc386539",
   "metadata": {},
   "outputs": [],
   "source": [
    "set1={'aniket', 'chandan', 'manish', 'prabhat',}"
   ]
  },
  {
   "cell_type": "code",
   "execution_count": 25,
   "id": "b7a3ad6d",
   "metadata": {},
   "outputs": [],
   "source": [
    "set2={'aniket', 'chandan', 'manish', 'prabhat', 'rohit', 'romil'}"
   ]
  },
  {
   "cell_type": "code",
   "execution_count": 28,
   "id": "1511c616",
   "metadata": {},
   "outputs": [
    {
     "data": {
      "text/plain": [
       "{'rohit', 'romil'}"
      ]
     },
     "execution_count": 28,
     "metadata": {},
     "output_type": "execute_result"
    }
   ],
   "source": [
    "#difference\n",
    "set2.difference(set1)"
   ]
  },
  {
   "cell_type": "code",
   "execution_count": 29,
   "id": "eeabfb23",
   "metadata": {},
   "outputs": [
    {
     "data": {
      "text/plain": [
       "set()"
      ]
     },
     "execution_count": 29,
     "metadata": {},
     "output_type": "execute_result"
    }
   ],
   "source": [
    "set1.difference(set2)"
   ]
  },
  {
   "cell_type": "code",
   "execution_count": 30,
   "id": "dbeb41c0",
   "metadata": {},
   "outputs": [
    {
     "name": "stdout",
     "output_type": "stream",
     "text": [
      "{'romil', 'chandan', 'aniket', 'prabhat', 'rohit', 'manish'}\n"
     ]
    }
   ],
   "source": [
    "print(set2)"
   ]
  },
  {
   "cell_type": "code",
   "execution_count": 31,
   "id": "6ac0948c",
   "metadata": {},
   "outputs": [],
   "source": [
    "set2.difference_update(set1)"
   ]
  },
  {
   "cell_type": "code",
   "execution_count": 32,
   "id": "c35b2def",
   "metadata": {},
   "outputs": [
    {
     "data": {
      "text/plain": [
       "{'rohit', 'romil'}"
      ]
     },
     "execution_count": 32,
     "metadata": {},
     "output_type": "execute_result"
    }
   ],
   "source": [
    "set2"
   ]
  },
  {
   "cell_type": "code",
   "execution_count": 33,
   "id": "1407b49d",
   "metadata": {},
   "outputs": [
    {
     "data": {
      "text/plain": [
       "{'rohit', 'romil'}"
      ]
     },
     "execution_count": 33,
     "metadata": {},
     "output_type": "execute_result"
    }
   ],
   "source": [
    "set2"
   ]
  },
  {
   "cell_type": "markdown",
   "id": "517ee41e",
   "metadata": {},
   "source": [
    "# dictionaries\n",
    "          - a dictionary is a collection which is unordered changeable and indexed in python dictionaries are written with curly brackets same as sets(sets has element only) but it has key and values"
   ]
  },
  {
   "cell_type": "code",
   "execution_count": 34,
   "id": "e5621c5e",
   "metadata": {},
   "outputs": [],
   "source": [
    "dic={}"
   ]
  },
  {
   "cell_type": "code",
   "execution_count": 35,
   "id": "0c0fbd74",
   "metadata": {},
   "outputs": [
    {
     "data": {
      "text/plain": [
       "dict"
      ]
     },
     "execution_count": 35,
     "metadata": {},
     "output_type": "execute_result"
    }
   ],
   "source": [
    "type(dic)"
   ]
  },
  {
   "cell_type": "code",
   "execution_count": 36,
   "id": "e2b77a62",
   "metadata": {},
   "outputs": [],
   "source": [
    "dic={1,2,3,4,5}"
   ]
  },
  {
   "cell_type": "code",
   "execution_count": 37,
   "id": "a15fdc8c",
   "metadata": {},
   "outputs": [
    {
     "data": {
      "text/plain": [
       "set"
      ]
     },
     "execution_count": 37,
     "metadata": {},
     "output_type": "execute_result"
    }
   ],
   "source": [
    "type(dic)"
   ]
  },
  {
   "cell_type": "code",
   "execution_count": 48,
   "id": "139e02c1",
   "metadata": {},
   "outputs": [],
   "source": [
    "##lets create a dictionary\n",
    "  "
   ]
  },
  {
   "cell_type": "code",
   "execution_count": 51,
   "id": "1727e9c4",
   "metadata": {},
   "outputs": [],
   "source": [
    " my_dict={'manish':'88','aniket':'76','shashi':'89'}"
   ]
  },
  {
   "cell_type": "code",
   "execution_count": 52,
   "id": "dcaef72a",
   "metadata": {},
   "outputs": [
    {
     "data": {
      "text/plain": [
       "dict"
      ]
     },
     "execution_count": 52,
     "metadata": {},
     "output_type": "execute_result"
    }
   ],
   "source": [
    "type(my_dict)"
   ]
  },
  {
   "cell_type": "code",
   "execution_count": 53,
   "id": "ac75042b",
   "metadata": {},
   "outputs": [],
   "source": [
    "##access the item values based on keys"
   ]
  },
  {
   "cell_type": "code",
   "execution_count": 55,
   "id": "fd14f0c5",
   "metadata": {},
   "outputs": [
    {
     "data": {
      "text/plain": [
       "'88'"
      ]
     },
     "execution_count": 55,
     "metadata": {},
     "output_type": "execute_result"
    }
   ],
   "source": [
    "my_dict['manish']"
   ]
  },
  {
   "cell_type": "code",
   "execution_count": 56,
   "id": "bc60a28e",
   "metadata": {},
   "outputs": [],
   "source": [
    "# we can even loop througout thr dictionaries keys"
   ]
  },
  {
   "cell_type": "code",
   "execution_count": 58,
   "id": "c5db7968",
   "metadata": {},
   "outputs": [
    {
     "name": "stdout",
     "output_type": "stream",
     "text": [
      "manish\n",
      "aniket\n",
      "shashi\n"
     ]
    }
   ],
   "source": [
    "for X in my_dict:\n",
    "    print(X)"
   ]
  },
  {
   "cell_type": "code",
   "execution_count": 63,
   "id": "26f48a0a",
   "metadata": {},
   "outputs": [
    {
     "name": "stdout",
     "output_type": "stream",
     "text": [
      "manish\n",
      "aniket\n",
      "shashi\n"
     ]
    }
   ],
   "source": [
    "for a in my_dict:\n",
    "    print(a)"
   ]
  },
  {
   "cell_type": "code",
   "execution_count": 68,
   "id": "42f7fa71",
   "metadata": {},
   "outputs": [
    {
     "name": "stdout",
     "output_type": "stream",
     "text": [
      "88\n",
      "76\n",
      "89\n"
     ]
    }
   ],
   "source": [
    " #we can even loop throughout the dictionaries values\n",
    "for a in my_dict.values ():\n",
    "        print(a)\n",
    "        "
   ]
  },
  {
   "cell_type": "code",
   "execution_count": 70,
   "id": "18fe5b4c",
   "metadata": {},
   "outputs": [
    {
     "name": "stdout",
     "output_type": "stream",
     "text": [
      "('manish', '88')\n",
      "('aniket', '76')\n",
      "('shashi', '89')\n"
     ]
    }
   ],
   "source": [
    "#we can also check both keys and value\n",
    "for x in my_dict.items():\n",
    "    print(x)"
   ]
  },
  {
   "cell_type": "code",
   "execution_count": 71,
   "id": "e4f2d5a6",
   "metadata": {},
   "outputs": [],
   "source": [
    "#adding items in dictionaries\n",
    "my_dict['chandAN'] = '98'"
   ]
  },
  {
   "cell_type": "code",
   "execution_count": 72,
   "id": "857d6ae2",
   "metadata": {},
   "outputs": [
    {
     "data": {
      "text/plain": [
       "{'manish': '88', 'aniket': '76', 'shashi': '89', 'chandAN': '98'}"
      ]
     },
     "execution_count": 72,
     "metadata": {},
     "output_type": "execute_result"
    }
   ],
   "source": [
    "my_dict"
   ]
  },
  {
   "cell_type": "code",
   "execution_count": 73,
   "id": "c8cf109e",
   "metadata": {},
   "outputs": [],
   "source": [
    "my_dict['manish'] = 98"
   ]
  },
  {
   "cell_type": "code",
   "execution_count": 74,
   "id": "5e97b26f",
   "metadata": {},
   "outputs": [
    {
     "data": {
      "text/plain": [
       "{'manish': 98, 'aniket': '76', 'shashi': '89', 'chandAN': '98'}"
      ]
     },
     "execution_count": 74,
     "metadata": {},
     "output_type": "execute_result"
    }
   ],
   "source": [
    "my_dict"
   ]
  },
  {
   "cell_type": "markdown",
   "id": "747a0b3c",
   "metadata": {},
   "source": [
    "## nested dictionary"
   ]
  },
  {
   "cell_type": "code",
   "execution_count": 80,
   "id": "2505511b",
   "metadata": {},
   "outputs": [],
   "source": [
    "manish_exam1={'maths':98}\n",
    "manish_exam2={'maths':96}\n",
    "manish_exam3={'maths': 86}\n",
    "manish_exam4={'maths':90}"
   ]
  },
  {
   "cell_type": "code",
   "execution_count": 89,
   "id": "3a63e8bc",
   "metadata": {},
   "outputs": [],
   "source": [
    "manish_marksheet={'Aexam':manish_exam1,'Bexam':manish_exam2, 'Cexam':manish_exam3, 'Dexam':manish_exam4}"
   ]
  },
  {
   "cell_type": "code",
   "execution_count": 90,
   "id": "2c91ce8a",
   "metadata": {},
   "outputs": [
    {
     "name": "stdout",
     "output_type": "stream",
     "text": [
      "{'Aexam': {'maths': 98}, 'Bexam': {'maths': 96}, 'Cexam': {'maths': 86}, 'Dexam': {'maths': 90}}\n"
     ]
    }
   ],
   "source": [
    "print(manish_marksheet)"
   ]
  },
  {
   "cell_type": "code",
   "execution_count": 91,
   "id": "8d7be7c0",
   "metadata": {},
   "outputs": [
    {
     "name": "stdout",
     "output_type": "stream",
     "text": [
      "{'maths': 98}\n"
     ]
    }
   ],
   "source": [
    "print(manish_marksheet['Aexam'])"
   ]
  },
  {
   "cell_type": "code",
   "execution_count": 95,
   "id": "a7fdff07",
   "metadata": {},
   "outputs": [
    {
     "name": "stdout",
     "output_type": "stream",
     "text": [
      "98\n"
     ]
    }
   ],
   "source": [
    "print(manish_marksheet['Aexam']['maths'])"
   ]
  },
  {
   "cell_type": "code",
   "execution_count": 96,
   "id": "e4a5e5c1",
   "metadata": {},
   "outputs": [
    {
     "name": "stdout",
     "output_type": "stream",
     "text": [
      "{'maths': 86}\n"
     ]
    }
   ],
   "source": [
    "print(manish_marksheet['Cexam'])"
   ]
  },
  {
   "cell_type": "code",
   "execution_count": 98,
   "id": "4605f99f",
   "metadata": {},
   "outputs": [],
   "source": [
    "manish_exam={'maths':98}\n",
    "aniket_exam={'maths':96}\n",
    "romil_exam={'maths': 86}\n",
    "keerthi_exam={'maths':90}"
   ]
  },
  {
   "cell_type": "code",
   "execution_count": 99,
   "id": "43ac5e35",
   "metadata": {},
   "outputs": [],
   "source": [
    "student_marks= {'manish':manish_exam,'aniket':aniket_exam,'romil':romil_exam,'keerthi':keerthi_exam}"
   ]
  },
  {
   "cell_type": "code",
   "execution_count": 101,
   "id": "f5be09c9",
   "metadata": {},
   "outputs": [
    {
     "name": "stdout",
     "output_type": "stream",
     "text": [
      "{'manish': {'maths': 98}, 'aniket': {'maths': 96}, 'romil': {'maths': 86}, 'keerthi': {'maths': 90}}\n"
     ]
    }
   ],
   "source": [
    "print(student_marks)"
   ]
  },
  {
   "cell_type": "code",
   "execution_count": 102,
   "id": "51a197f3",
   "metadata": {},
   "outputs": [
    {
     "name": "stdout",
     "output_type": "stream",
     "text": [
      "{'maths': 98}\n"
     ]
    }
   ],
   "source": [
    "print(student_marks['manish'])"
   ]
  },
  {
   "cell_type": "code",
   "execution_count": 103,
   "id": "8e3256dc",
   "metadata": {},
   "outputs": [],
   "source": [
    "manish_exam={'maths':98,'chemistry':94,'physics':89}\n",
    "aniket_exam={'maths':96,'chemistry':91,'physics':84}\n",
    "romil_exam={'maths': 86,'chemistry':79,'physics':75}\n",
    "keerthi_exam={'maths':90,'chemistry':99,'physics':88}"
   ]
  },
  {
   "cell_type": "code",
   "execution_count": 104,
   "id": "b6217ff5",
   "metadata": {},
   "outputs": [],
   "source": [
    "student_marks= {'manish':manish_exam,'aniket':aniket_exam,'romil':romil_exam,'keerthi':keerthi_exam}"
   ]
  },
  {
   "cell_type": "code",
   "execution_count": 105,
   "id": "3c016b6f",
   "metadata": {},
   "outputs": [
    {
     "name": "stdout",
     "output_type": "stream",
     "text": [
      "{'manish': {'maths': 98, 'chemistry': 94, 'physics': 89}, 'aniket': {'maths': 96, 'chemistry': 91, 'physics': 84}, 'romil': {'maths': 86, 'chemistry': 79, 'physics': 75}, 'keerthi': {'maths': 90, 'chemistry': 99, 'physics': 88}}\n"
     ]
    }
   ],
   "source": [
    "print(student_marks)"
   ]
  },
  {
   "cell_type": "code",
   "execution_count": 106,
   "id": "7a164eb0",
   "metadata": {},
   "outputs": [
    {
     "name": "stdout",
     "output_type": "stream",
     "text": [
      "84\n"
     ]
    }
   ],
   "source": [
    "print(student_marks['aniket']['physics'])"
   ]
  },
  {
   "cell_type": "code",
   "execution_count": 107,
   "id": "19f3dc89",
   "metadata": {},
   "outputs": [
    {
     "name": "stdout",
     "output_type": "stream",
     "text": [
      "90\n"
     ]
    }
   ],
   "source": [
    "print(student_marks['keerthi']['maths'])"
   ]
  },
  {
   "cell_type": "markdown",
   "id": "13ac2477",
   "metadata": {},
   "source": [
    "# tuples"
   ]
  },
  {
   "cell_type": "code",
   "execution_count": 115,
   "id": "c9de4503",
   "metadata": {},
   "outputs": [],
   "source": [
    "my_tuple=tuple()"
   ]
  },
  {
   "cell_type": "code",
   "execution_count": 116,
   "id": "cc98a093",
   "metadata": {},
   "outputs": [
    {
     "data": {
      "text/plain": [
       "tuple"
      ]
     },
     "execution_count": 116,
     "metadata": {},
     "output_type": "execute_result"
    }
   ],
   "source": [
    "type(my_tuple)"
   ]
  },
  {
   "cell_type": "code",
   "execution_count": 119,
   "id": "fea7252a",
   "metadata": {},
   "outputs": [],
   "source": [
    "my_tuple=('manish','aniket','ashu')"
   ]
  },
  {
   "cell_type": "code",
   "execution_count": 121,
   "id": "1a46eeac",
   "metadata": {},
   "outputs": [
    {
     "data": {
      "text/plain": [
       "'manish'"
      ]
     },
     "execution_count": 121,
     "metadata": {},
     "output_type": "execute_result"
    }
   ],
   "source": [
    "my_tuple[0]"
   ]
  },
  {
   "cell_type": "code",
   "execution_count": 122,
   "id": "bdd06c97",
   "metadata": {},
   "outputs": [
    {
     "data": {
      "text/plain": [
       "1"
      ]
     },
     "execution_count": 122,
     "metadata": {},
     "output_type": "execute_result"
    }
   ],
   "source": [
    "my_tuple.count('manish')"
   ]
  },
  {
   "cell_type": "code",
   "execution_count": 123,
   "id": "d3c32923",
   "metadata": {},
   "outputs": [
    {
     "data": {
      "text/plain": [
       "1"
      ]
     },
     "execution_count": 123,
     "metadata": {},
     "output_type": "execute_result"
    }
   ],
   "source": [
    "my_tuple.index('aniket')"
   ]
  },
  {
   "cell_type": "code",
   "execution_count": null,
   "id": "67674165",
   "metadata": {},
   "outputs": [],
   "source": []
  }
 ],
 "metadata": {
  "kernelspec": {
   "display_name": "Python 3",
   "language": "python",
   "name": "python3"
  },
  "language_info": {
   "codemirror_mode": {
    "name": "ipython",
    "version": 3
   },
   "file_extension": ".py",
   "mimetype": "text/x-python",
   "name": "python",
   "nbconvert_exporter": "python",
   "pygments_lexer": "ipython3",
   "version": "3.8.8"
  }
 },
 "nbformat": 4,
 "nbformat_minor": 5
}
