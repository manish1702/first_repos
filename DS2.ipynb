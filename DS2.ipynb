{
 "cells": [
  {
   "cell_type": "markdown",
   "id": "ee300bdc",
   "metadata": {},
   "source": [
    "# python data structure and boolean \n",
    "\n",
    "#### boolean\n",
    "#### boolean and logical operators\n",
    "#### list\n",
    "#### comparison operators\n",
    "#### dictionaries\n",
    "#### tuples\n",
    "#### sets"
   ]
  },
  {
   "cell_type": "markdown",
   "id": "7b5c7610",
   "metadata": {},
   "source": [
    "## boolean variables\n",
    "   boolean value are the two constant object False and True.\n",
    "   \n",
    "    they are used to represent truth values )other value can also considered false or true).\n",
    "    \n",
    "    in numeric context (for example , when used as the argument to an airthmetic oprator).they behave like 0 and 1 respectively.\n",
    "    \n",
    "    the built-in function bool() can be used to cast any value to boolean, if the value can be interpreted as a truth value they are written false and true respectively\n",
    "      "
   ]
  },
  {
   "cell_type": "code",
   "execution_count": 1,
   "id": "37f3976e",
   "metadata": {},
   "outputs": [
    {
     "data": {
      "text/plain": [
       "False"
      ]
     },
     "execution_count": 1,
     "metadata": {},
     "output_type": "execute_result"
    }
   ],
   "source": [
    "bool()"
   ]
  },
  {
   "cell_type": "code",
   "execution_count": 2,
   "id": "ecf770f5",
   "metadata": {},
   "outputs": [
    {
     "data": {
      "text/plain": [
       "True"
      ]
     },
     "execution_count": 2,
     "metadata": {},
     "output_type": "execute_result"
    }
   ],
   "source": [
    "True"
   ]
  },
  {
   "cell_type": "code",
   "execution_count": 3,
   "id": "8cc9294b",
   "metadata": {},
   "outputs": [
    {
     "data": {
      "text/plain": [
       "bool"
      ]
     },
     "execution_count": 3,
     "metadata": {},
     "output_type": "execute_result"
    }
   ],
   "source": [
    "type(True)"
   ]
  },
  {
   "cell_type": "code",
   "execution_count": 4,
   "id": "c5171bfa",
   "metadata": {},
   "outputs": [],
   "source": [
    "my_str =\"Manish mishra 2108\""
   ]
  },
  {
   "cell_type": "code",
   "execution_count": 5,
   "id": "fcee089c",
   "metadata": {},
   "outputs": [
    {
     "name": "stdout",
     "output_type": "stream",
     "text": [
      "False\n"
     ]
    }
   ],
   "source": [
    "print(my_str.isalnum()) # check if all char are numbers"
   ]
  },
  {
   "cell_type": "code",
   "execution_count": 6,
   "id": "b1e909c2",
   "metadata": {},
   "outputs": [
    {
     "name": "stdout",
     "output_type": "stream",
     "text": [
      "False\n"
     ]
    }
   ],
   "source": [
    "print(my_str.istitle()) #test if string contains title word"
   ]
  },
  {
   "cell_type": "code",
   "execution_count": 7,
   "id": "601994a9",
   "metadata": {},
   "outputs": [
    {
     "name": "stdout",
     "output_type": "stream",
     "text": [
      "False\n"
     ]
    }
   ],
   "source": [
    "print(my_str.islower()) #test if string contains lower case"
   ]
  },
  {
   "cell_type": "code",
   "execution_count": 8,
   "id": "4235b4d7",
   "metadata": {},
   "outputs": [
    {
     "name": "stdout",
     "output_type": "stream",
     "text": [
      "True\n"
     ]
    }
   ],
   "source": [
    "print(my_str.startswith('M')) #test if string starts with M"
   ]
  },
  {
   "cell_type": "code",
   "execution_count": 9,
   "id": "5904e067",
   "metadata": {},
   "outputs": [
    {
     "name": "stdout",
     "output_type": "stream",
     "text": [
      "1\n"
     ]
    }
   ],
   "source": [
    "print(my_str.count('1')) #test how many time it occurs in string"
   ]
  },
  {
   "cell_type": "code",
   "execution_count": 10,
   "id": "0125314c",
   "metadata": {},
   "outputs": [
    {
     "name": "stdout",
     "output_type": "stream",
     "text": [
      "True\n"
     ]
    }
   ],
   "source": [
    "print(my_str.endswith(\"8\"))"
   ]
  },
  {
   "cell_type": "code",
   "execution_count": 11,
   "id": "700f7372",
   "metadata": {},
   "outputs": [
    {
     "name": "stdout",
     "output_type": "stream",
     "text": [
      "1\n"
     ]
    }
   ],
   "source": [
    "print(my_str.count(\"M\"))"
   ]
  },
  {
   "cell_type": "code",
   "execution_count": 12,
   "id": "ce1e590e",
   "metadata": {},
   "outputs": [
    {
     "name": "stdout",
     "output_type": "stream",
     "text": [
      "1\n"
     ]
    }
   ],
   "source": [
    "print(my_str.count(\"Manish\"))"
   ]
  },
  {
   "cell_type": "code",
   "execution_count": 13,
   "id": "be1e7107",
   "metadata": {},
   "outputs": [
    {
     "ename": "SyntaxError",
     "evalue": "invalid syntax (<ipython-input-13-15edc3c972af>, line 1)",
     "output_type": "error",
     "traceback": [
      "\u001b[1;36m  File \u001b[1;32m\"<ipython-input-13-15edc3c972af>\"\u001b[1;36m, line \u001b[1;32m1\u001b[0m\n\u001b[1;33m    print(my_str.(\"\"))\u001b[0m\n\u001b[1;37m                 ^\u001b[0m\n\u001b[1;31mSyntaxError\u001b[0m\u001b[1;31m:\u001b[0m invalid syntax\n"
     ]
    }
   ],
   "source": [
    "print(my_str.(\"\"))"
   ]
  },
  {
   "cell_type": "markdown",
   "id": "0d0f17d9",
   "metadata": {},
   "source": [
    "## boolean and logical operators"
   ]
  },
  {
   "cell_type": "code",
   "execution_count": 14,
   "id": "576cdae2",
   "metadata": {},
   "outputs": [
    {
     "data": {
      "text/plain": [
       "False"
      ]
     },
     "execution_count": 14,
     "metadata": {},
     "output_type": "execute_result"
    }
   ],
   "source": [
    "True and False"
   ]
  },
  {
   "cell_type": "code",
   "execution_count": 15,
   "id": "1b41fb65",
   "metadata": {},
   "outputs": [
    {
     "data": {
      "text/plain": [
       "True"
      ]
     },
     "execution_count": 15,
     "metadata": {},
     "output_type": "execute_result"
    }
   ],
   "source": [
    "True or False"
   ]
  },
  {
   "cell_type": "code",
   "execution_count": 16,
   "id": "716cb5f4",
   "metadata": {},
   "outputs": [
    {
     "data": {
      "text/plain": [
       "True"
      ]
     },
     "execution_count": 16,
     "metadata": {},
     "output_type": "execute_result"
    }
   ],
   "source": [
    "True and True"
   ]
  },
  {
   "cell_type": "code",
   "execution_count": 17,
   "id": "167a1ce3",
   "metadata": {},
   "outputs": [
    {
     "data": {
      "text/plain": [
       "False"
      ]
     },
     "execution_count": 17,
     "metadata": {},
     "output_type": "execute_result"
    }
   ],
   "source": [
    "False and False"
   ]
  },
  {
   "cell_type": "code",
   "execution_count": 18,
   "id": "dd0a8c60",
   "metadata": {},
   "outputs": [
    {
     "data": {
      "text/plain": [
       "False"
      ]
     },
     "execution_count": 18,
     "metadata": {},
     "output_type": "execute_result"
    }
   ],
   "source": [
    "False or False "
   ]
  },
  {
   "cell_type": "code",
   "execution_count": 19,
   "id": "f2f34948",
   "metadata": {},
   "outputs": [
    {
     "data": {
      "text/plain": [
       "True"
      ]
     },
     "execution_count": 19,
     "metadata": {},
     "output_type": "execute_result"
    }
   ],
   "source": [
    "False or True"
   ]
  },
  {
   "cell_type": "code",
   "execution_count": 20,
   "id": "2301da41",
   "metadata": {},
   "outputs": [
    {
     "data": {
      "text/plain": [
       "False"
      ]
     },
     "execution_count": 20,
     "metadata": {},
     "output_type": "execute_result"
    }
   ],
   "source": [
    "my_str.startswith('M') and my_str.isnumeric()"
   ]
  },
  {
   "cell_type": "code",
   "execution_count": 21,
   "id": "f00c21ea",
   "metadata": {},
   "outputs": [
    {
     "data": {
      "text/plain": [
       "False"
      ]
     },
     "execution_count": 21,
     "metadata": {},
     "output_type": "execute_result"
    }
   ],
   "source": [
    "my_str.endswith('8') and my_str.startswith('k')"
   ]
  },
  {
   "cell_type": "code",
   "execution_count": 22,
   "id": "35248bb8",
   "metadata": {},
   "outputs": [
    {
     "data": {
      "text/plain": [
       "True"
      ]
     },
     "execution_count": 22,
     "metadata": {},
     "output_type": "execute_result"
    }
   ],
   "source": [
    "my_str.isalnum() or my_str.startswith('M')"
   ]
  },
  {
   "cell_type": "markdown",
   "id": "26b14c86",
   "metadata": {},
   "source": [
    "# list\n",
    "          a list is a data structure in python that is a mutable, or changeable , ordered sequence of elements . each element or value that is inside of a list is called an item. just as string are defined as  character  between quotes , lists are defined by having values between square brackets[]."
   ]
  },
  {
   "cell_type": "code",
   "execution_count": 23,
   "id": "6986f296",
   "metadata": {},
   "outputs": [
    {
     "data": {
      "text/plain": [
       "list"
      ]
     },
     "execution_count": 23,
     "metadata": {},
     "output_type": "execute_result"
    }
   ],
   "source": [
    "type([])"
   ]
  },
  {
   "cell_type": "code",
   "execution_count": 24,
   "id": "61bdd18d",
   "metadata": {},
   "outputs": [],
   "source": [
    "lst_example=[]"
   ]
  },
  {
   "cell_type": "code",
   "execution_count": 25,
   "id": "1ab6bbcb",
   "metadata": {},
   "outputs": [
    {
     "data": {
      "text/plain": [
       "list"
      ]
     },
     "execution_count": 25,
     "metadata": {},
     "output_type": "execute_result"
    }
   ],
   "source": [
    "type(lst_example)"
   ]
  },
  {
   "cell_type": "code",
   "execution_count": 26,
   "id": "b65b3214",
   "metadata": {},
   "outputs": [],
   "source": [
    "lst=['manissh','aniket','shashi',100,2000,3000,2400]"
   ]
  },
  {
   "cell_type": "code",
   "execution_count": 27,
   "id": "6274a3f8",
   "metadata": {},
   "outputs": [
    {
     "data": {
      "text/plain": [
       "list"
      ]
     },
     "execution_count": 27,
     "metadata": {},
     "output_type": "execute_result"
    }
   ],
   "source": [
    "type(lst)"
   ]
  },
  {
   "cell_type": "code",
   "execution_count": 28,
   "id": "ce658991",
   "metadata": {},
   "outputs": [
    {
     "data": {
      "text/plain": [
       "7"
      ]
     },
     "execution_count": 28,
     "metadata": {},
     "output_type": "execute_result"
    }
   ],
   "source": [
    "len(lst)"
   ]
  },
  {
   "cell_type": "markdown",
   "id": "fa6b6c26",
   "metadata": {},
   "source": [
    "## append\n",
    "        \n",
    "       "
   ]
  },
  {
   "cell_type": "code",
   "execution_count": 29,
   "id": "b3bc3d56",
   "metadata": {},
   "outputs": [],
   "source": [
    "#append is used to add elements in the list\n",
    "lst.append(\"krish\")"
   ]
  },
  {
   "cell_type": "code",
   "execution_count": 30,
   "id": "7a795694",
   "metadata": {},
   "outputs": [
    {
     "data": {
      "text/plain": [
       "['manissh', 'aniket', 'shashi', 100, 2000, 3000, 2400, 'krish']"
      ]
     },
     "execution_count": 30,
     "metadata": {},
     "output_type": "execute_result"
    }
   ],
   "source": [
    "lst"
   ]
  },
  {
   "cell_type": "code",
   "execution_count": 31,
   "id": "08c50721",
   "metadata": {},
   "outputs": [],
   "source": [
    "lst.append(['sweta','romil','chandan','prabhat'])"
   ]
  },
  {
   "cell_type": "code",
   "execution_count": 32,
   "id": "9b27762b",
   "metadata": {},
   "outputs": [
    {
     "data": {
      "text/plain": [
       "['manissh',\n",
       " 'aniket',\n",
       " 'shashi',\n",
       " 100,\n",
       " 2000,\n",
       " 3000,\n",
       " 2400,\n",
       " 'krish',\n",
       " ['sweta', 'romil', 'chandan', 'prabhat']]"
      ]
     },
     "execution_count": 32,
     "metadata": {},
     "output_type": "execute_result"
    }
   ],
   "source": [
    "lst"
   ]
  },
  {
   "cell_type": "markdown",
   "id": "4070cb27",
   "metadata": {},
   "source": [
    "### indexing"
   ]
  },
  {
   "cell_type": "code",
   "execution_count": 33,
   "id": "e338961a",
   "metadata": {},
   "outputs": [],
   "source": [
    "#indexing in list ; it starts from zero"
   ]
  },
  {
   "cell_type": "code",
   "execution_count": 34,
   "id": "edd7bb73",
   "metadata": {},
   "outputs": [
    {
     "data": {
      "text/plain": [
       "2400"
      ]
     },
     "execution_count": 34,
     "metadata": {},
     "output_type": "execute_result"
    }
   ],
   "source": [
    "lst[6]"
   ]
  },
  {
   "cell_type": "code",
   "execution_count": 35,
   "id": "e4c4942a",
   "metadata": {},
   "outputs": [
    {
     "data": {
      "text/plain": [
       "'krish'"
      ]
     },
     "execution_count": 35,
     "metadata": {},
     "output_type": "execute_result"
    }
   ],
   "source": [
    "lst[7]"
   ]
  },
  {
   "cell_type": "code",
   "execution_count": 36,
   "id": "762e4325",
   "metadata": {},
   "outputs": [
    {
     "data": {
      "text/plain": [
       "['aniket', 'shashi', 100]"
      ]
     },
     "execution_count": 36,
     "metadata": {},
     "output_type": "execute_result"
    }
   ],
   "source": [
    "lst[1:4]"
   ]
  },
  {
   "cell_type": "code",
   "execution_count": 37,
   "id": "edb92a23",
   "metadata": {},
   "outputs": [
    {
     "data": {
      "text/plain": [
       "['manissh', 'aniket', 'shashi', 100, 2000, 3000, 2400]"
      ]
     },
     "execution_count": 37,
     "metadata": {},
     "output_type": "execute_result"
    }
   ],
   "source": [
    "lst[0:7]"
   ]
  },
  {
   "cell_type": "markdown",
   "id": "53adbad0",
   "metadata": {},
   "source": [
    "### insert \n",
    "           it insert new element in a specific order"
   ]
  },
  {
   "cell_type": "code",
   "execution_count": 38,
   "id": "f521c6cf",
   "metadata": {},
   "outputs": [],
   "source": [
    "lst.insert(1,'mohit')"
   ]
  },
  {
   "cell_type": "code",
   "execution_count": 39,
   "id": "84c482f3",
   "metadata": {},
   "outputs": [
    {
     "data": {
      "text/plain": [
       "['manissh',\n",
       " 'mohit',\n",
       " 'aniket',\n",
       " 'shashi',\n",
       " 100,\n",
       " 2000,\n",
       " 3000,\n",
       " 2400,\n",
       " 'krish',\n",
       " ['sweta', 'romil', 'chandan', 'prabhat']]"
      ]
     },
     "execution_count": 39,
     "metadata": {},
     "output_type": "execute_result"
    }
   ],
   "source": [
    "lst"
   ]
  },
  {
   "cell_type": "code",
   "execution_count": 40,
   "id": "ca68d655",
   "metadata": {},
   "outputs": [],
   "source": [
    "lst.insert(2,'pardeep')"
   ]
  },
  {
   "cell_type": "code",
   "execution_count": 41,
   "id": "a603f397",
   "metadata": {},
   "outputs": [
    {
     "data": {
      "text/plain": [
       "['manissh',\n",
       " 'mohit',\n",
       " 'pardeep',\n",
       " 'aniket',\n",
       " 'shashi',\n",
       " 100,\n",
       " 2000,\n",
       " 3000,\n",
       " 2400,\n",
       " 'krish',\n",
       " ['sweta', 'romil', 'chandan', 'prabhat']]"
      ]
     },
     "execution_count": 41,
     "metadata": {},
     "output_type": "execute_result"
    }
   ],
   "source": [
    "lst"
   ]
  },
  {
   "cell_type": "markdown",
   "id": "bcc10515",
   "metadata": {},
   "source": [
    "## extend method\n",
    "     it add more than one value without creating nested list"
   ]
  },
  {
   "cell_type": "code",
   "execution_count": 42,
   "id": "4dcf2e1e",
   "metadata": {},
   "outputs": [],
   "source": [
    "lst1=[1,2,3,4,5,6]"
   ]
  },
  {
   "cell_type": "code",
   "execution_count": 43,
   "id": "0a966423",
   "metadata": {},
   "outputs": [],
   "source": [
    "lst1.extend([7,8])"
   ]
  },
  {
   "cell_type": "code",
   "execution_count": 44,
   "id": "19d58fb8",
   "metadata": {},
   "outputs": [
    {
     "data": {
      "text/plain": [
       "[1, 2, 3, 4, 5, 6, 7, 8]"
      ]
     },
     "execution_count": 44,
     "metadata": {},
     "output_type": "execute_result"
    }
   ],
   "source": [
    "lst1"
   ]
  },
  {
   "cell_type": "code",
   "execution_count": 45,
   "id": "f57e6f37",
   "metadata": {},
   "outputs": [
    {
     "data": {
      "text/plain": [
       "['manissh',\n",
       " 'mohit',\n",
       " 'pardeep',\n",
       " 'aniket',\n",
       " 'shashi',\n",
       " 100,\n",
       " 2000,\n",
       " 3000,\n",
       " 2400,\n",
       " 'krish',\n",
       " ['sweta', 'romil', 'chandan', 'prabhat']]"
      ]
     },
     "execution_count": 45,
     "metadata": {},
     "output_type": "execute_result"
    }
   ],
   "source": [
    "lst"
   ]
  },
  {
   "cell_type": "code",
   "execution_count": 46,
   "id": "b18b459f",
   "metadata": {},
   "outputs": [],
   "source": [
    "lst.extend(['sonu','dubey jee'])"
   ]
  },
  {
   "cell_type": "code",
   "execution_count": 47,
   "id": "008cb0c5",
   "metadata": {},
   "outputs": [
    {
     "data": {
      "text/plain": [
       "['manissh',\n",
       " 'mohit',\n",
       " 'pardeep',\n",
       " 'aniket',\n",
       " 'shashi',\n",
       " 100,\n",
       " 2000,\n",
       " 3000,\n",
       " 2400,\n",
       " 'krish',\n",
       " ['sweta', 'romil', 'chandan', 'prabhat'],\n",
       " 'sonu',\n",
       " 'dubey jee']"
      ]
     },
     "execution_count": 47,
     "metadata": {},
     "output_type": "execute_result"
    }
   ],
   "source": [
    "lst"
   ]
  },
  {
   "cell_type": "code",
   "execution_count": 48,
   "id": "7ba72de2",
   "metadata": {},
   "outputs": [
    {
     "data": {
      "text/plain": [
       "36"
      ]
     },
     "execution_count": 48,
     "metadata": {},
     "output_type": "execute_result"
    }
   ],
   "source": [
    "sum(lst1)"
   ]
  },
  {
   "cell_type": "code",
   "execution_count": 49,
   "id": "c05a2a12",
   "metadata": {},
   "outputs": [
    {
     "data": {
      "text/plain": [
       "0"
      ]
     },
     "execution_count": 49,
     "metadata": {},
     "output_type": "execute_result"
    }
   ],
   "source": [
    "lst.count(2)"
   ]
  },
  {
   "cell_type": "code",
   "execution_count": 50,
   "id": "a47b919c",
   "metadata": {},
   "outputs": [
    {
     "data": {
      "text/plain": [
       "'dubey jee'"
      ]
     },
     "execution_count": 50,
     "metadata": {},
     "output_type": "execute_result"
    }
   ],
   "source": [
    "lst.pop()"
   ]
  },
  {
   "cell_type": "code",
   "execution_count": 51,
   "id": "5a9867d1",
   "metadata": {},
   "outputs": [
    {
     "data": {
      "text/plain": [
       "8"
      ]
     },
     "execution_count": 51,
     "metadata": {},
     "output_type": "execute_result"
    }
   ],
   "source": [
    "lst1.pop()"
   ]
  },
  {
   "cell_type": "code",
   "execution_count": 52,
   "id": "4624cde4",
   "metadata": {},
   "outputs": [
    {
     "data": {
      "text/plain": [
       "'krish'"
      ]
     },
     "execution_count": 52,
     "metadata": {},
     "output_type": "execute_result"
    }
   ],
   "source": [
    "lst.pop(9)"
   ]
  },
  {
   "cell_type": "code",
   "execution_count": 53,
   "id": "b157abd1",
   "metadata": {},
   "outputs": [
    {
     "data": {
      "text/plain": [
       "['manissh',\n",
       " 'mohit',\n",
       " 'pardeep',\n",
       " 'aniket',\n",
       " 'shashi',\n",
       " 100,\n",
       " 2000,\n",
       " 3000,\n",
       " 2400,\n",
       " ['sweta', 'romil', 'chandan', 'prabhat'],\n",
       " 'sonu']"
      ]
     },
     "execution_count": 53,
     "metadata": {},
     "output_type": "execute_result"
    }
   ],
   "source": [
    "lst"
   ]
  },
  {
   "cell_type": "code",
   "execution_count": 54,
   "id": "e4c4cf49",
   "metadata": {},
   "outputs": [
    {
     "data": {
      "text/plain": [
       "1"
      ]
     },
     "execution_count": 54,
     "metadata": {},
     "output_type": "execute_result"
    }
   ],
   "source": [
    "lst1.count(7)"
   ]
  },
  {
   "cell_type": "code",
   "execution_count": 55,
   "id": "1ffff6e3",
   "metadata": {},
   "outputs": [],
   "source": [
    "lst2 =[1,1,2,2,2,2,4,5,5,6,6,6,]"
   ]
  },
  {
   "cell_type": "code",
   "execution_count": 56,
   "id": "3d42bf2f",
   "metadata": {},
   "outputs": [
    {
     "data": {
      "text/plain": [
       "11"
      ]
     },
     "execution_count": 56,
     "metadata": {},
     "output_type": "execute_result"
    }
   ],
   "source": [
    "len(lst)"
   ]
  },
  {
   "cell_type": "code",
   "execution_count": 57,
   "id": "e7459495",
   "metadata": {},
   "outputs": [
    {
     "data": {
      "text/plain": [
       "7"
      ]
     },
     "execution_count": 57,
     "metadata": {},
     "output_type": "execute_result"
    }
   ],
   "source": [
    "len(lst1)"
   ]
  },
  {
   "cell_type": "code",
   "execution_count": 58,
   "id": "fbc9fd96",
   "metadata": {},
   "outputs": [],
   "source": [
    "#index; return the index of first occurence.\n",
    "#start and end index are not necessary"
   ]
  },
  {
   "cell_type": "code",
   "execution_count": 59,
   "id": "0a12e324",
   "metadata": {},
   "outputs": [
    {
     "data": {
      "text/plain": [
       "2"
      ]
     },
     "execution_count": 59,
     "metadata": {},
     "output_type": "execute_result"
    }
   ],
   "source": [
    "lst2.index(2,0,4)"
   ]
  },
  {
   "cell_type": "code",
   "execution_count": 60,
   "id": "b6b731cb",
   "metadata": {},
   "outputs": [
    {
     "data": {
      "text/plain": [
       "4"
      ]
     },
     "execution_count": 60,
     "metadata": {},
     "output_type": "execute_result"
    }
   ],
   "source": [
    "lst2.index(2,4,12)"
   ]
  },
  {
   "cell_type": "code",
   "execution_count": 61,
   "id": "26c1a83a",
   "metadata": {},
   "outputs": [
    {
     "data": {
      "text/plain": [
       "5"
      ]
     },
     "execution_count": 61,
     "metadata": {},
     "output_type": "execute_result"
    }
   ],
   "source": [
    "lst2.index(2,5,12)"
   ]
  },
  {
   "cell_type": "code",
   "execution_count": 62,
   "id": "c2c2b514",
   "metadata": {},
   "outputs": [
    {
     "data": {
      "text/plain": [
       "1"
      ]
     },
     "execution_count": 62,
     "metadata": {},
     "output_type": "execute_result"
    }
   ],
   "source": [
    "min(lst2)"
   ]
  },
  {
   "cell_type": "code",
   "execution_count": 63,
   "id": "01126bfe",
   "metadata": {},
   "outputs": [
    {
     "ename": "TypeError",
     "evalue": "'<' not supported between instances of 'int' and 'str'",
     "output_type": "error",
     "traceback": [
      "\u001b[1;31m---------------------------------------------------------------------------\u001b[0m",
      "\u001b[1;31mTypeError\u001b[0m                                 Traceback (most recent call last)",
      "\u001b[1;32m<ipython-input-63-7108e6d089f2>\u001b[0m in \u001b[0;36m<module>\u001b[1;34m\u001b[0m\n\u001b[1;32m----> 1\u001b[1;33m \u001b[0mmin\u001b[0m\u001b[1;33m(\u001b[0m\u001b[0mlst\u001b[0m\u001b[1;33m)\u001b[0m\u001b[1;33m\u001b[0m\u001b[1;33m\u001b[0m\u001b[0m\n\u001b[0m",
      "\u001b[1;31mTypeError\u001b[0m: '<' not supported between instances of 'int' and 'str'"
     ]
    }
   ],
   "source": [
    "min(lst)"
   ]
  },
  {
   "cell_type": "code",
   "execution_count": 64,
   "id": "d08759fa",
   "metadata": {},
   "outputs": [
    {
     "data": {
      "text/plain": [
       "1"
      ]
     },
     "execution_count": 64,
     "metadata": {},
     "output_type": "execute_result"
    }
   ],
   "source": [
    "min(lst1)"
   ]
  },
  {
   "cell_type": "code",
   "execution_count": 65,
   "id": "4735b681",
   "metadata": {},
   "outputs": [
    {
     "data": {
      "text/plain": [
       "[1, 1, 2, 2, 2, 2, 4, 5, 5, 6, 6, 6, 1, 1, 2, 2, 2, 2, 4, 5, 5, 6, 6, 6]"
      ]
     },
     "execution_count": 65,
     "metadata": {},
     "output_type": "execute_result"
    }
   ],
   "source": [
    "lst2*2"
   ]
  },
  {
   "cell_type": "code",
   "execution_count": 66,
   "id": "3dad76ac",
   "metadata": {},
   "outputs": [
    {
     "data": {
      "text/plain": [
       "['manissh',\n",
       " 'mohit',\n",
       " 'pardeep',\n",
       " 'aniket',\n",
       " 'shashi',\n",
       " 100,\n",
       " 2000,\n",
       " 3000,\n",
       " 2400,\n",
       " ['sweta', 'romil', 'chandan', 'prabhat'],\n",
       " 'sonu',\n",
       " 'manissh',\n",
       " 'mohit',\n",
       " 'pardeep',\n",
       " 'aniket',\n",
       " 'shashi',\n",
       " 100,\n",
       " 2000,\n",
       " 3000,\n",
       " 2400,\n",
       " ['sweta', 'romil', 'chandan', 'prabhat'],\n",
       " 'sonu',\n",
       " 'manissh',\n",
       " 'mohit',\n",
       " 'pardeep',\n",
       " 'aniket',\n",
       " 'shashi',\n",
       " 100,\n",
       " 2000,\n",
       " 3000,\n",
       " 2400,\n",
       " ['sweta', 'romil', 'chandan', 'prabhat'],\n",
       " 'sonu']"
      ]
     },
     "execution_count": 66,
     "metadata": {},
     "output_type": "execute_result"
    }
   ],
   "source": [
    "lst*3"
   ]
  },
  {
   "cell_type": "code",
   "execution_count": null,
   "id": "1fef6f67",
   "metadata": {},
   "outputs": [],
   "source": []
  },
  {
   "cell_type": "markdown",
   "id": "92eb271a",
   "metadata": {},
   "source": [
    "## conditional statement"
   ]
  },
  {
   "cell_type": "code",
   "execution_count": 67,
   "id": "55a84d7a",
   "metadata": {},
   "outputs": [],
   "source": [
    "ur_salary=1000\n",
    "bank_balance=10000"
   ]
  },
  {
   "cell_type": "code",
   "execution_count": 68,
   "id": "029613d3",
   "metadata": {},
   "outputs": [],
   "source": [
    "if ur_salary<1500:\n",
    "    ur_salary+=700\n",
    "    bank_balance-=700\n",
    "    "
   ]
  },
  {
   "cell_type": "code",
   "execution_count": 69,
   "id": "8fc8d2f8",
   "metadata": {},
   "outputs": [
    {
     "name": "stdout",
     "output_type": "stream",
     "text": [
      "1700 9300\n"
     ]
    }
   ],
   "source": [
    "print(ur_salary,bank_balance)"
   ]
  },
  {
   "cell_type": "code",
   "execution_count": 70,
   "id": "1af7b085",
   "metadata": {},
   "outputs": [
    {
     "name": "stdout",
     "output_type": "stream",
     "text": [
      "number 54 is even.\n"
     ]
    }
   ],
   "source": [
    "n=54\n",
    "if n%2==0:\n",
    "    print(\"number\" + \" \"+str(n)+\" \" + \"is even.\" )\n",
    "else:\n",
    "     print(\"number\" +\" \"+ str(n)+\" \" + \"is odd.\")   "
   ]
  },
  {
   "cell_type": "code",
   "execution_count": 71,
   "id": "b1253f4e",
   "metadata": {},
   "outputs": [],
   "source": [
    "n=54"
   ]
  },
  {
   "cell_type": "code",
   "execution_count": 72,
   "id": "24ee7f28",
   "metadata": {},
   "outputs": [
    {
     "name": "stdout",
     "output_type": "stream",
     "text": [
      "54\n"
     ]
    }
   ],
   "source": [
    "print(n)"
   ]
  },
  {
   "cell_type": "code",
   "execution_count": 73,
   "id": "5b89fe42",
   "metadata": {},
   "outputs": [
    {
     "name": "stdout",
     "output_type": "stream",
     "text": [
      "Oh dear, no prize this time.\n"
     ]
    }
   ],
   "source": [
    "point=121\n",
    "if point<=50:\n",
    "    print(\"Congratulations! You won a [wooden rabbit]!\")\n",
    "elif point <=150:\n",
    "    print(\"Oh dear, no prize this time.\")\n",
    "elif point<=180:\n",
    "    print(\"Congratulations! You won a [water thin mint]!\")\n",
    "elif point<=200:\n",
    "    print(\"Congratulations! You won a [penguin]!\")\n",
    "else: \n",
    "    print(\"invalid point\")"
   ]
  },
  {
   "cell_type": "code",
   "execution_count": 74,
   "id": "3721f13e",
   "metadata": {},
   "outputs": [],
   "source": [
    "altitude = 10000\n",
    "speed = 250\n",
    "propulsion = \"Propeller\""
   ]
  },
  {
   "cell_type": "code",
   "execution_count": 75,
   "id": "0c0b7328",
   "metadata": {},
   "outputs": [
    {
     "data": {
      "text/plain": [
       "False"
      ]
     },
     "execution_count": 75,
     "metadata": {},
     "output_type": "execute_result"
    }
   ],
   "source": [
    "altitude<1000 and speed>100"
   ]
  },
  {
   "cell_type": "code",
   "execution_count": 76,
   "id": "98515971",
   "metadata": {},
   "outputs": [],
   "source": [
    "cities=['delhi','jaipur','ajmer','kolkata','pune','mumbai']"
   ]
  },
  {
   "cell_type": "code",
   "execution_count": 77,
   "id": "7578a67d",
   "metadata": {},
   "outputs": [
    {
     "name": "stdout",
     "output_type": "stream",
     "text": [
      "Delhi\n",
      "Jaipur\n",
      "Ajmer\n",
      "Kolkata\n",
      "Pune\n",
      "Mumbai\n"
     ]
    }
   ],
   "source": [
    "for city in cities:\n",
    "    print(city.title())"
   ]
  },
  {
   "cell_type": "code",
   "execution_count": 78,
   "id": "dd764341",
   "metadata": {},
   "outputs": [],
   "source": [
    "capitalized_cities = []\n",
    "for city in cities:\n",
    "    capitalized_cities.append(city.title())"
   ]
  },
  {
   "cell_type": "code",
   "execution_count": 79,
   "id": "85f6fc9f",
   "metadata": {},
   "outputs": [
    {
     "data": {
      "text/plain": [
       "['delhi', 'jaipur', 'ajmer', 'kolkata', 'pune', 'mumbai']"
      ]
     },
     "execution_count": 79,
     "metadata": {},
     "output_type": "execute_result"
    }
   ],
   "source": [
    "cities"
   ]
  },
  {
   "cell_type": "code",
   "execution_count": 80,
   "id": "ec47f0ac",
   "metadata": {},
   "outputs": [
    {
     "data": {
      "text/plain": [
       "['Delhi', 'Jaipur', 'Ajmer', 'Kolkata', 'Pune', 'Mumbai']"
      ]
     },
     "execution_count": 80,
     "metadata": {},
     "output_type": "execute_result"
    }
   ],
   "source": [
    "capitalized_cities"
   ]
  },
  {
   "cell_type": "code",
   "execution_count": 81,
   "id": "4b5903ca",
   "metadata": {},
   "outputs": [],
   "source": [
    "for index in range(len(cities)):\n",
    "    cities[index]=cities[index].title()"
   ]
  },
  {
   "cell_type": "code",
   "execution_count": 82,
   "id": "d6dc7d3f",
   "metadata": {},
   "outputs": [
    {
     "data": {
      "text/plain": [
       "'Ajmer'"
      ]
     },
     "execution_count": 82,
     "metadata": {},
     "output_type": "execute_result"
    }
   ],
   "source": [
    "cities[2]"
   ]
  },
  {
   "cell_type": "code",
   "execution_count": 83,
   "id": "70468fc0",
   "metadata": {},
   "outputs": [
    {
     "name": "stdout",
     "output_type": "stream",
     "text": [
      "i love you\n",
      "i love you\n",
      "i love you\n",
      "i love you\n",
      "i love you\n"
     ]
    }
   ],
   "source": [
    "for i in range (5):\n",
    "    print(\"i love you\")"
   ]
  },
  {
   "cell_type": "code",
   "execution_count": 84,
   "id": "aad2e58a",
   "metadata": {},
   "outputs": [
    {
     "name": "stdout",
     "output_type": "stream",
     "text": [
      "5\n",
      "10\n",
      "15\n",
      "20\n",
      "25\n",
      "30\n"
     ]
    }
   ],
   "source": [
    "for i in range(5, 35, 5):\n",
    "    print(i)"
   ]
  },
  {
   "cell_type": "code",
   "execution_count": 85,
   "id": "38da17cf",
   "metadata": {},
   "outputs": [
    {
     "name": "stdout",
     "output_type": "stream",
     "text": [
      "zindagi jhand hai\n",
      "zindagi jhand hai\n"
     ]
    }
   ],
   "source": [
    "for i in range(2):\n",
    "    print(\"zindagi jhand hai\")"
   ]
  },
  {
   "cell_type": "code",
   "execution_count": 86,
   "id": "c2d952fc",
   "metadata": {},
   "outputs": [],
   "source": [
    "sentence = [\"the\", \"quick\", \"brown\", \"fox\", \"jumped\", \"over\", \"the\", \"lazy\", \"dog\"]"
   ]
  },
  {
   "cell_type": "code",
   "execution_count": 87,
   "id": "ff0bb956",
   "metadata": {},
   "outputs": [
    {
     "name": "stdout",
     "output_type": "stream",
     "text": [
      "the\n",
      "quick\n",
      "brown\n",
      "fox\n",
      "jumped\n",
      "over\n",
      "the\n",
      "lazy\n",
      "dog\n"
     ]
    }
   ],
   "source": [
    "for one_word in sentence:\n",
    "    print(one_word)"
   ]
  },
  {
   "cell_type": "code",
   "execution_count": 88,
   "id": "ffd0cb03",
   "metadata": {},
   "outputs": [
    {
     "name": "stdout",
     "output_type": "stream",
     "text": [
      "[]\n"
     ]
    }
   ],
   "source": [
    "print(list(range(0,-5)))"
   ]
  },
  {
   "cell_type": "code",
   "execution_count": 89,
   "id": "4cd02be1",
   "metadata": {},
   "outputs": [
    {
     "name": "stdout",
     "output_type": "stream",
     "text": [
      "[0, 1, 2, 3]\n"
     ]
    }
   ],
   "source": [
    "print(list(range(4)))"
   ]
  },
  {
   "cell_type": "code",
   "execution_count": 90,
   "id": "c27bac14",
   "metadata": {},
   "outputs": [],
   "source": [
    "colors = ['Red', 'Blue', 'Green', 'Purple']"
   ]
  },
  {
   "cell_type": "code",
   "execution_count": 91,
   "id": "75c30a84",
   "metadata": {},
   "outputs": [
    {
     "ename": "NameError",
     "evalue": "name 'lower_colors' is not defined",
     "output_type": "error",
     "traceback": [
      "\u001b[1;31m---------------------------------------------------------------------------\u001b[0m",
      "\u001b[1;31mNameError\u001b[0m                                 Traceback (most recent call last)",
      "\u001b[1;32m<ipython-input-91-220a7668a299>\u001b[0m in \u001b[0;36m<module>\u001b[1;34m\u001b[0m\n\u001b[0;32m      1\u001b[0m \u001b[1;32mfor\u001b[0m \u001b[0mcolor\u001b[0m \u001b[1;32min\u001b[0m \u001b[0mcolors\u001b[0m\u001b[1;33m:\u001b[0m\u001b[1;33m\u001b[0m\u001b[1;33m\u001b[0m\u001b[0m\n\u001b[1;32m----> 2\u001b[1;33m     \u001b[0mprint\u001b[0m\u001b[1;33m(\u001b[0m\u001b[0mlower_colors\u001b[0m\u001b[1;33m.\u001b[0m\u001b[0mappend\u001b[0m\u001b[1;33m(\u001b[0m\u001b[0mcolor\u001b[0m\u001b[1;33m.\u001b[0m\u001b[0mlower\u001b[0m\u001b[1;33m(\u001b[0m\u001b[1;33m)\u001b[0m\u001b[1;33m)\u001b[0m\u001b[1;33m)\u001b[0m\u001b[1;33m\u001b[0m\u001b[1;33m\u001b[0m\u001b[0m\n\u001b[0m",
      "\u001b[1;31mNameError\u001b[0m: name 'lower_colors' is not defined"
     ]
    }
   ],
   "source": [
    "for color in colors:\n",
    "    print(lower_colors.append(color.lower()))"
   ]
  },
  {
   "cell_type": "code",
   "execution_count": 92,
   "id": "b803b584",
   "metadata": {},
   "outputs": [],
   "source": [
    "book_title =  ['great', 'expectations','the', 'adventures', 'of', 'sherlock','holmes','the','great','gasby','hamlet','adventures','of','huckleberry','fin']"
   ]
  },
  {
   "cell_type": "code",
   "execution_count": 93,
   "id": "e35b9c24",
   "metadata": {},
   "outputs": [],
   "source": [
    "word_counter = {'great',\"gasby\"}"
   ]
  },
  {
   "cell_type": "code",
   "execution_count": 94,
   "id": "6dc8bb63",
   "metadata": {},
   "outputs": [
    {
     "ename": "IndentationError",
     "evalue": "expected an indented block (<ipython-input-94-1f25d1febacf>, line 2)",
     "output_type": "error",
     "traceback": [
      "\u001b[1;36m  File \u001b[1;32m\"<ipython-input-94-1f25d1febacf>\"\u001b[1;36m, line \u001b[1;32m2\u001b[0m\n\u001b[1;33m    if word not in word_counter:\u001b[0m\n\u001b[1;37m    ^\u001b[0m\n\u001b[1;31mIndentationError\u001b[0m\u001b[1;31m:\u001b[0m expected an indented block\n"
     ]
    }
   ],
   "source": [
    "for word in book_title:\n",
    "if word not in word_counter:\n",
    "word_counter[word] = 1\n",
    "else:\n",
    "word_counter[word] += 1"
   ]
  },
  {
   "cell_type": "code",
   "execution_count": 95,
   "id": "5c7a4e1f",
   "metadata": {},
   "outputs": [],
   "source": [
    "card_deck = [4, 11, 8, 5, 13, 2, 8, 10]\n",
    "hand = []"
   ]
  },
  {
   "cell_type": "code",
   "execution_count": 96,
   "id": "26ef2696",
   "metadata": {},
   "outputs": [],
   "source": [
    "while sum(hand)  < 17:\n",
    "    hand.append(card_deck.pop())"
   ]
  },
  {
   "cell_type": "code",
   "execution_count": 97,
   "id": "554ba7d0",
   "metadata": {},
   "outputs": [
    {
     "name": "stdout",
     "output_type": "stream",
     "text": [
      "[10, 8]\n"
     ]
    }
   ],
   "source": [
    "print(hand)"
   ]
  },
  {
   "cell_type": "code",
   "execution_count": 98,
   "id": "4ee49958",
   "metadata": {},
   "outputs": [
    {
     "ename": "IndentationError",
     "evalue": "expected an indented block (<ipython-input-98-501e1ca15838>, line 3)",
     "output_type": "error",
     "traceback": [
      "\u001b[1;36m  File \u001b[1;32m\"<ipython-input-98-501e1ca15838>\"\u001b[1;36m, line \u001b[1;32m3\u001b[0m\n\u001b[1;33m    product*=num\u001b[0m\n\u001b[1;37m    ^\u001b[0m\n\u001b[1;31mIndentationError\u001b[0m\u001b[1;31m:\u001b[0m expected an indented block\n"
     ]
    }
   ],
   "source": [
    "num=6\n",
    "\n",
    "for num in range(1,2 num + 1):\n",
    "product*=num\n",
    "    print(\"the factorial of\",num,)"
   ]
  },
  {
   "cell_type": "code",
   "execution_count": 99,
   "id": "ee19a6be",
   "metadata": {},
   "outputs": [
    {
     "name": "stdout",
     "output_type": "stream",
     "text": [
      "METHOD 1\n",
      "current weight: 0\n",
      "  adding bananas (15)\n",
      "current weight: 15\n",
      "  adding mattresses (24)\n",
      "current weight: 39\n",
      "  adding dog kennels (42)\n",
      "current weight: 81\n",
      "  adding machine (120)\n",
      "current weight: 201\n",
      "  breaking loop now!\n"
     ]
    }
   ],
   "source": [
    "manifest = [(\"bananas\", 15), (\"mattresses\", 24), (\"dog kennels\", 42), (\"machine\", 120), (\"cheeses\", 5)]\n",
    "\n",
    "# the code breaks the loop when weight exceeds or reaches the limit\n",
    "print(\"METHOD 1\")\n",
    "weight = 0\n",
    "items = []\n",
    "for cargo_name, cargo_weight in manifest:\n",
    "    print(\"current weight: {}\".format(weight))\n",
    "    if weight >= 100:\n",
    "        print(\"  breaking loop now!\")\n",
    "        break\n",
    "    else:\n",
    "        print(\"  adding {} ({})\".format(cargo_name, cargo_weight))\n",
    "        items.append(cargo_name)\n",
    "        weight += cargo_weight"
   ]
  },
  {
   "cell_type": "code",
   "execution_count": 100,
   "id": "f4b5b6d9",
   "metadata": {},
   "outputs": [
    {
     "name": "stdout",
     "output_type": "stream",
     "text": [
      "\n",
      "Final Weight: 201\n",
      "Final Items: ['bananas', 'mattresses', 'dog kennels', 'machine']\n"
     ]
    }
   ],
   "source": [
    "\n",
    "print(\"\\nFinal Weight: {}\".format(weight))\n",
    "print(\"Final Items: {}\".format(items))"
   ]
  },
  {
   "cell_type": "code",
   "execution_count": 101,
   "id": "04223d1d",
   "metadata": {},
   "outputs": [
    {
     "name": "stdout",
     "output_type": "stream",
     "text": [
      "\n",
      "METHOD 2\n",
      "current weight: 0\n",
      "  adding bananas (15)\n",
      "current weight: 15\n",
      "  adding mattresses (24)\n",
      "current weight: 39\n",
      "  adding dog kennels (42)\n",
      "current weight: 81\n",
      "  skipping machine (120)\n",
      "current weight: 81\n",
      "  adding cheeses (5)\n"
     ]
    }
   ],
   "source": [
    "print(\"\\nMETHOD 2\")\n",
    "weight = 0\n",
    "items = []\n",
    "for cargo_name, cargo_weight in manifest:\n",
    "    print(\"current weight: {}\".format(weight))\n",
    "    if weight >= 100:\n",
    "        print(\"  breaking from the loop now!\")\n",
    "        break\n",
    "    elif weight + cargo_weight > 100:\n",
    "        print(\"  skipping {} ({})\".format(cargo_name, cargo_weight))\n",
    "        continue\n",
    "    else:\n",
    "        print(\"  adding {} ({})\".format(cargo_name, cargo_weight))\n",
    "        items.append(cargo_name)\n",
    "        weight += cargo_weight\n"
   ]
  },
  {
   "cell_type": "code",
   "execution_count": 102,
   "id": "154378ca",
   "metadata": {},
   "outputs": [
    {
     "name": "stdout",
     "output_type": "stream",
     "text": [
      "\n",
      "Final Weight: 86\n",
      "Final Items: ['bananas', 'mattresses', 'dog kennels', 'cheeses']\n"
     ]
    }
   ],
   "source": [
    "print(\"\\nFinal Weight: {}\".format(weight))\n",
    "print(\"Final Items: {}\".format(items))"
   ]
  },
  {
   "cell_type": "code",
   "execution_count": 103,
   "id": "7278c134",
   "metadata": {},
   "outputs": [],
   "source": [
    "letters = ['a', 'b', 'c']\n",
    "nums = [1, 2, 3]\n"
   ]
  },
  {
   "cell_type": "code",
   "execution_count": 104,
   "id": "2c35d548",
   "metadata": {},
   "outputs": [
    {
     "name": "stdout",
     "output_type": "stream",
     "text": [
      "a: 1\n",
      "b: 2\n",
      "c: 3\n"
     ]
    }
   ],
   "source": [
    "for letter, num in zip(letters, nums):\n",
    "    print(\"{}: {}\".format(letter, num))"
   ]
  },
  {
   "cell_type": "code",
   "execution_count": 105,
   "id": "e8fda188",
   "metadata": {},
   "outputs": [],
   "source": [
    "manish_gf = ['jan','feb','mar','apr','may','jun']\n",
    "gf_count =[0,2,4,1,5,6]"
   ]
  },
  {
   "cell_type": "code",
   "execution_count": 107,
   "id": "db5a542b",
   "metadata": {},
   "outputs": [
    {
     "name": "stdout",
     "output_type": "stream",
     "text": [
      "[('jan', 0), ('feb', 2), ('mar', 4), ('apr', 1), ('may', 5), ('jun', 6)]\n"
     ]
    }
   ],
   "source": [
    "print(list(zip(manish_gf,gf_count)))"
   ]
  },
  {
   "cell_type": "code",
   "execution_count": 108,
   "id": "fa044ce1",
   "metadata": {},
   "outputs": [],
   "source": [
    "names = [\"Rick Sanchez\", \"Morty Smith\", \"Summer Smith\", \"Jerry Smith\", \"Beth Smith\"]"
   ]
  },
  {
   "cell_type": "code",
   "execution_count": 111,
   "id": "14ff16ae",
   "metadata": {},
   "outputs": [
    {
     "name": "stdout",
     "output_type": "stream",
     "text": [
      "[['rick', 'morty', 'summer', 'jerry', 'beth']]\n"
     ]
    }
   ],
   "source": [
    "first_names=[[name.split()[0].lower() for name in names]]\n",
    "print(first_names)"
   ]
  },
  {
   "cell_type": "code",
   "execution_count": 113,
   "id": "332083c7",
   "metadata": {},
   "outputs": [
    {
     "name": "stdout",
     "output_type": "stream",
     "text": [
      "[3, 6, 9, 12, 15, 18, 21, 24, 27, 30, 33, 36, 39, 42, 45, 48, 51, 54, 57, 60]\n"
     ]
    }
   ],
   "source": [
    "# multipl of 3 \n",
    "multiple_3=[x*3 for x in range(1,21)]\n",
    "print(multiple_3)"
   ]
  },
  {
   "cell_type": "code",
   "execution_count": 114,
   "id": "282e7bc7",
   "metadata": {},
   "outputs": [],
   "source": [
    "def population_density(population, land_area):\n",
    "    return population/land_area"
   ]
  },
  {
   "cell_type": "code",
   "execution_count": 115,
   "id": "2c522e07",
   "metadata": {},
   "outputs": [
    {
     "name": "stdout",
     "output_type": "stream",
     "text": [
      "expected result: 10, actual result: 10.0\n"
     ]
    }
   ],
   "source": [
    "test1 = population_density(10, 1)\n",
    "expected_result1 = 10\n",
    "print(\"expected result: {}, actual result: {}\".format(expected_result1, test1))\n"
   ]
  },
  {
   "cell_type": "code",
   "execution_count": 116,
   "id": "ddc780a6",
   "metadata": {},
   "outputs": [
    {
     "name": "stdout",
     "output_type": "stream",
     "text": [
      "expected result: 10, actual result: 10.001306506401882\n"
     ]
    }
   ],
   "source": [
    "test2 = population_density(76550,7654)\n",
    "expected_result2 = 10\n",
    "print(\"expected result: {}, actual result: {}\".format(expected_result2, test2))\n"
   ]
  },
  {
   "cell_type": "code",
   "execution_count": 117,
   "id": "4cf15a00",
   "metadata": {},
   "outputs": [
    {
     "ename": "UnboundLocalError",
     "evalue": "local variable 'egg_count' referenced before assignment",
     "output_type": "error",
     "traceback": [
      "\u001b[1;31m---------------------------------------------------------------------------\u001b[0m",
      "\u001b[1;31mUnboundLocalError\u001b[0m                         Traceback (most recent call last)",
      "\u001b[1;32m<ipython-input-117-32dca0f4d031>\u001b[0m in \u001b[0;36m<module>\u001b[1;34m\u001b[0m\n\u001b[0;32m      4\u001b[0m     \u001b[0megg_count\u001b[0m \u001b[1;33m+=\u001b[0m \u001b[1;36m12\u001b[0m \u001b[1;31m# purchase a dozen eggs\u001b[0m\u001b[1;33m\u001b[0m\u001b[1;33m\u001b[0m\u001b[0m\n\u001b[0;32m      5\u001b[0m \u001b[1;33m\u001b[0m\u001b[0m\n\u001b[1;32m----> 6\u001b[1;33m \u001b[0mbuy_eggs\u001b[0m\u001b[1;33m(\u001b[0m\u001b[1;33m)\u001b[0m\u001b[1;33m\u001b[0m\u001b[1;33m\u001b[0m\u001b[0m\n\u001b[0m",
      "\u001b[1;32m<ipython-input-117-32dca0f4d031>\u001b[0m in \u001b[0;36mbuy_eggs\u001b[1;34m()\u001b[0m\n\u001b[0;32m      2\u001b[0m \u001b[1;33m\u001b[0m\u001b[0m\n\u001b[0;32m      3\u001b[0m \u001b[1;32mdef\u001b[0m \u001b[0mbuy_eggs\u001b[0m\u001b[1;33m(\u001b[0m\u001b[1;33m)\u001b[0m\u001b[1;33m:\u001b[0m\u001b[1;33m\u001b[0m\u001b[1;33m\u001b[0m\u001b[0m\n\u001b[1;32m----> 4\u001b[1;33m     \u001b[0megg_count\u001b[0m \u001b[1;33m+=\u001b[0m \u001b[1;36m12\u001b[0m \u001b[1;31m# purchase a dozen eggs\u001b[0m\u001b[1;33m\u001b[0m\u001b[1;33m\u001b[0m\u001b[0m\n\u001b[0m\u001b[0;32m      5\u001b[0m \u001b[1;33m\u001b[0m\u001b[0m\n\u001b[0;32m      6\u001b[0m \u001b[0mbuy_eggs\u001b[0m\u001b[1;33m(\u001b[0m\u001b[1;33m)\u001b[0m\u001b[1;33m\u001b[0m\u001b[1;33m\u001b[0m\u001b[0m\n",
      "\u001b[1;31mUnboundLocalError\u001b[0m: local variable 'egg_count' referenced before assignment"
     ]
    }
   ],
   "source": [
    "egg_count = 0\n",
    "\n",
    "def buy_eggs():\n",
    "    egg_count += 12 # purchase a dozen eggs\n",
    "\n",
    "buy_eggs()"
   ]
  },
  {
   "cell_type": "code",
   "execution_count": null,
   "id": "85b68732",
   "metadata": {},
   "outputs": [],
   "source": []
  }
 ],
 "metadata": {
  "kernelspec": {
   "display_name": "Python 3",
   "language": "python",
   "name": "python3"
  },
  "language_info": {
   "codemirror_mode": {
    "name": "ipython",
    "version": 3
   },
   "file_extension": ".py",
   "mimetype": "text/x-python",
   "name": "python",
   "nbconvert_exporter": "python",
   "pygments_lexer": "ipython3",
   "version": "3.8.8"
  }
 },
 "nbformat": 4,
 "nbformat_minor": 5
}
